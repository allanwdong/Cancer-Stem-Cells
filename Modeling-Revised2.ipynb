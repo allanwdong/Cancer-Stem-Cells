{
 "cells": [
  {
   "cell_type": "code",
   "execution_count": 33,
   "metadata": {},
   "outputs": [],
   "source": [
    "import numpy as np\n",
    "import pandas as pd\n",
    "\n",
    "import os\n",
    "import time\n",
    "import pprint\n",
    "from bs4 import BeautifulSoup\n",
    "import seaborn as sbn\n",
    "import matplotlib.pyplot as plt\n",
    "import pickle\n",
    "\n",
    "from sklearn import metrics\n",
    "\n",
    "from sklearn.model_selection import train_test_split\n",
    "from sklearn.feature_extraction.text import CountVectorizer, TfidfVectorizer\n",
    "from sklearn.decomposition import NMF, LatentDirichletAllocation\n",
    "from sklearn.cluster import DBSCAN\n",
    "\n",
    "\n",
    "from sklearn.preprocessing import Normalizer\n",
    "from sklearn.preprocessing import scale\n",
    "\n",
    "\n",
    "\n",
    "%matplotlib inline"
   ]
  },
  {
   "cell_type": "code",
   "execution_count": 2,
   "metadata": {},
   "outputs": [],
   "source": [
    "def df_filler(article):\n",
    "    # Function to construct dataframe row from raw 'article' xml\n",
    "    \n",
    "    \n",
    "    soup = BeautifulSoup(article, 'xml')\n",
    "    \n",
    "    try:\n",
    "        ArticleTitle = soup.find('ArticleTitle').get_text()\n",
    "    except:\n",
    "        ArticleTitle = 'NaN'\n",
    "    try:\n",
    "        PubYear = soup.find('PubDate').Year.get_text()\n",
    "    except:\n",
    "        PubYear = 'NaN'\n",
    "    try:\n",
    "        PubMonth = soup.find('PubDate').Month.get_text()\n",
    "    except:\n",
    "        PubMonth = 'NaN'\n",
    "    try:\n",
    "        PubDay = soup.find('PubDate').Day.get_text()\n",
    "    except:\n",
    "        PubDay = 'NaN'\n",
    "    try:\n",
    "        Journal = soup.find('Journal').Title.get_text()\n",
    "    except:\n",
    "        Journal = 'NaN'\n",
    "    try:\n",
    "        Keywords = soup.find('KeywordList').get_text().strip('\\n').replace('\\n', ',')\n",
    "    except:\n",
    "        Keywords = 'NaN'\n",
    "    try:\n",
    "        Abstract = soup.find('AbstractText').get_text()\n",
    "    except:\n",
    "        Abstract = 'NaN'\n",
    "    \n",
    "    row = pd.Series({'ArticleTitle' : ArticleTitle,\n",
    "                     'PubYear' : PubYear,\n",
    "                     'PubMonth' : PubMonth,\n",
    "                     'PubDay' : PubDay,\n",
    "                     'Journal' : Journal,\n",
    "                     'Keywords' : Keywords,\n",
    "                     'Abstract' : Abstract\n",
    "                    }\n",
    "                   )\n",
    "       \n",
    "\n",
    "    return row"
   ]
  },
  {
   "cell_type": "code",
   "execution_count": 12,
   "metadata": {},
   "outputs": [
    {
     "name": "stdout",
     "output_type": "stream",
     "text": [
      "CPU times: user 2 µs, sys: 0 ns, total: 2 µs\n",
      "Wall time: 4.05 µs\n"
     ]
    }
   ],
   "source": [
    "start_time = time.time()\n",
    "\n",
    "with open('xml_final_revised.pkl', 'rb') as xmlfinal_file:\n",
    "    pubmed_xml_batch = pickle.load(xmlfinal_file)\n",
    "xmlfinal_file.close()\n",
    "\n",
    "print(\"-- %s seconds \" % time.time() - start_time)"
   ]
  },
  {
   "cell_type": "code",
   "execution_count": 13,
   "metadata": {
    "scrolled": true
   },
   "outputs": [
    {
     "name": "stdout",
     "output_type": "stream",
     "text": [
      "CPU times: user 1e+03 ns, sys: 1 µs, total: 2 µs\n",
      "Wall time: 4.77 µs\n"
     ]
    }
   ],
   "source": [
    "pubmed_xml = []\n",
    "\n",
    "for c,v in enumerate(pubmed_xml_batch):\n",
    "    pubmed_xml.extend(v.split('\\n\\n\\n'))\n",
    "#    print(c)\n",
    "#    print(len(v.split('\\n\\n\\n')))\n",
    "#    print('\\n')"
   ]
  },
  {
   "cell_type": "code",
   "execution_count": 14,
   "metadata": {},
   "outputs": [
    {
     "data": {
      "text/plain": [
       "76126"
      ]
     },
     "execution_count": 14,
     "metadata": {},
     "output_type": "execute_result"
    }
   ],
   "source": [
    "len(pubmed_xml)"
   ]
  },
  {
   "cell_type": "code",
   "execution_count": 15,
   "metadata": {},
   "outputs": [
    {
     "name": "stdout",
     "output_type": "stream",
     "text": [
      "CPU times: user 2 µs, sys: 0 ns, total: 2 µs\n",
      "Wall time: 5.01 µs\n"
     ]
    }
   ],
   "source": [
    "df = pd.DataFrame(columns = ['ArticleTitle', 'PubYear', 'PubMonth', 'PubDay', 'Journal', 'Keywords', 'Abstract'])"
   ]
  },
  {
   "cell_type": "code",
   "execution_count": 16,
   "metadata": {},
   "outputs": [
    {
     "name": "stdout",
     "output_type": "stream",
     "text": [
      "CPU times: user 2 µs, sys: 0 ns, total: 2 µs\n",
      "Wall time: 4.77 µs\n"
     ]
    }
   ],
   "source": [
    "start_time1 = time.time()\n",
    "\n",
    "for article in pubmed_xml:\n",
    "    row = df_filler(article)\n",
    "    df = df.append(row, ignore_index = True)\n",
    "    \n",
    "print(\"-- %s seconds \" % time.time() - start_time1)"
   ]
  },
  {
   "cell_type": "code",
   "execution_count": 32,
   "metadata": {},
   "outputs": [
    {
     "data": {
      "text/plain": [
       "0"
      ]
     },
     "execution_count": 32,
     "metadata": {},
     "output_type": "execute_result"
    }
   ],
   "source": [
    "# Alarm to determine when dataframe is fully populated\n",
    "os.system('say \"Dataframe complete\"')"
   ]
  },
  {
   "cell_type": "code",
   "execution_count": 17,
   "metadata": {},
   "outputs": [
    {
     "data": {
      "text/plain": [
       "(76126, 7)"
      ]
     },
     "execution_count": 17,
     "metadata": {},
     "output_type": "execute_result"
    }
   ],
   "source": [
    "df.shape"
   ]
  },
  {
   "cell_type": "code",
   "execution_count": 18,
   "metadata": {},
   "outputs": [],
   "source": [
    "def PubMonth_to_num(entry):\n",
    "    if entry == 'Jan':\n",
    "        return '01'\n",
    "    elif entry == 'Feb':\n",
    "        return '02'\n",
    "    elif entry == 'Mar':\n",
    "        return '03'\n",
    "    elif entry == 'Apr':\n",
    "        return '04'\n",
    "    elif entry == 'May':\n",
    "        return '05'\n",
    "    elif entry == 'Jun':\n",
    "        return '06'\n",
    "    elif entry == 'Jul':\n",
    "        return '07'\n",
    "    elif entry == 'Aug':\n",
    "        return '08'\n",
    "    elif entry == 'Sep':\n",
    "        return '09'\n",
    "    elif entry == 'Oct':\n",
    "        return '10'\n",
    "    elif entry == 'Nov':\n",
    "        return '11'\n",
    "    elif entry == 'Dec':\n",
    "        return '12'\n",
    "    elif entry == 'NaN':\n",
    "        return 'NaN'\n",
    "    else:\n",
    "        return entry\n",
    "\n",
    "df['PubMonthNum'] = df.PubMonth.map(PubMonth_to_num)\n"
   ]
  },
  {
   "cell_type": "code",
   "execution_count": 23,
   "metadata": {
    "scrolled": true
   },
   "outputs": [
    {
     "name": "stderr",
     "output_type": "stream",
     "text": [
      "/Users/allandong/anaconda/lib/python3.6/site-packages/ipykernel_launcher.py:3: SettingWithCopyWarning: \n",
      "A value is trying to be set on a copy of a slice from a DataFrame.\n",
      "Try using .loc[row_indexer,col_indexer] = value instead\n",
      "\n",
      "See the caveats in the documentation: http://pandas.pydata.org/pandas-docs/stable/indexing.html#indexing-view-versus-copy\n",
      "  This is separate from the ipykernel package so we can avoid doing imports until\n"
     ]
    }
   ],
   "source": [
    "df_clean_abstract = df[df.Abstract != 'NaN']\n",
    "df_clean_abs_year= df_clean_abstract[df_clean_abstract.PubYear != 'NaN']#.dropna(axis=0, how='any', subset=['Abstract'])\n",
    "df_clean_abs_year['PubYearNum'] = df_clean_abs_year.loc[:, 'PubYear'].astype(int)\n",
    "\n",
    "\n",
    "df_clean = df_clean_abs_year[df_clean_abs_year.PubYearNum >= 1980]"
   ]
  },
  {
   "cell_type": "code",
   "execution_count": 24,
   "metadata": {
    "scrolled": true
   },
   "outputs": [],
   "source": [
    "df_grp = df_clean.groupby('PubYear', as_index=True)\n",
    "\n",
    "yrlst = sorted(list(df_clean.PubYear.unique()))"
   ]
  },
  {
   "cell_type": "code",
   "execution_count": null,
   "metadata": {},
   "outputs": [],
   "source": []
  },
  {
   "cell_type": "markdown",
   "metadata": {},
   "source": [
    "# Number of Articles"
   ]
  },
  {
   "cell_type": "code",
   "execution_count": 25,
   "metadata": {},
   "outputs": [
    {
     "data": {
      "text/plain": [
       "Index(['2017', '2016', '2015', '2014', '2013', '2012', '2011', '2010', '2009',\n",
       "       '2008', '2007', '2006', '2005', '2004', '2003', '2002', '2001', '2000',\n",
       "       '1999', '1996', '1998', '1997', '2018', '1995', '1994', '1993', '1992',\n",
       "       '1989', '1990', '1991', '1985', '1988', '1987', '1986', '1984', '1983',\n",
       "       '1982', '1981', '1980'],\n",
       "      dtype='object')"
      ]
     },
     "execution_count": 25,
     "metadata": {},
     "output_type": "execute_result"
    }
   ],
   "source": [
    "amounts = df_clean.PubYear.value_counts()\n",
    "amounts.index"
   ]
  },
  {
   "cell_type": "code",
   "execution_count": 28,
   "metadata": {
    "scrolled": false
   },
   "outputs": [
    {
     "data": {
      "text/plain": [
       "Text(0,0.5,'Number of Articles Sampled')"
      ]
     },
     "execution_count": 28,
     "metadata": {},
     "output_type": "execute_result"
    },
    {
     "data": {
      "image/png": "[encoded data removed]",
      "text/plain": [
       "<matplotlib.figure.Figure at 0x1ab25ad7f0>"
      ]
     },
     "metadata": {},
     "output_type": "display_data"
    }
   ],
   "source": [
    "plt.figure(figsize = (20, 8))\n",
    "plt.scatter(amounts.index, amounts)\n",
    "plt.title(\"Number of Articles per Year\", size = 20)\n",
    "plt.xlabel(\"Year\", size=16)\n",
    "plt.ylabel(\"Number of Articles Sampled\", size=16)"
   ]
  },
  {
   "cell_type": "code",
   "execution_count": 29,
   "metadata": {},
   "outputs": [
    {
     "name": "stdout",
     "output_type": "stream",
     "text": [
      "1980 - 1984\n",
      "1981 - 1985\n",
      "1982 - 1986\n",
      "1983 - 1987\n",
      "1984 - 1988\n",
      "1985 - 1989\n",
      "1986 - 1990\n",
      "1987 - 1991\n",
      "1988 - 1992\n",
      "1989 - 1993\n",
      "1990 - 1994\n",
      "1991 - 1995\n",
      "1992 - 1996\n",
      "1993 - 1997\n",
      "1994 - 1998\n",
      "1995 - 1999\n",
      "1996 - 2000\n",
      "1997 - 2001\n",
      "1998 - 2002\n",
      "1999 - 2003\n",
      "2000 - 2004\n",
      "2001 - 2005\n",
      "2002 - 2006\n",
      "2003 - 2007\n",
      "2004 - 2008\n",
      "2005 - 2009\n",
      "2006 - 2010\n",
      "2007 - 2011\n",
      "2008 - 2012\n",
      "2009 - 2013\n",
      "2010 - 2014\n",
      "2011 - 2015\n",
      "2012 - 2016\n",
      "2013 - 2017\n"
     ]
    }
   ],
   "source": [
    "\n",
    "for i in range(0,len(yrlst)-5):\n",
    "    years_abstracts = ' '\n",
    "    for x in range(i, i + 5):\n",
    "        years_abstracts.join(yrlst[i : i+5])\n",
    "    print(yrlst[i] + ' - ' + yrlst[i+4])\n",
    "#    print(nmf_topic_gen(grp_tfidf_tf[years_abstracts], tfidf_vectorizer_sw, 5, grp_dct[yr]))\n",
    "    "
   ]
  },
  {
   "cell_type": "markdown",
   "metadata": {},
   "source": [
    "# Real Modeling"
   ]
  },
  {
   "cell_type": "code",
   "execution_count": 20,
   "metadata": {},
   "outputs": [],
   "source": [
    "grp_dct = {}\n",
    "for year in yrlst:\n",
    "    abstract_group = df_grp.get_group(year).Abstract\n",
    "    grp_dct[year] = abstract_group\n",
    "\n",
    "\n",
    "def vec_abs_over_yrs(vectorizer):\n",
    "# Creates dict grp_vec of 'year' : 'sparse matrix of vectorized abstracts from that year'\n",
    "\n",
    "    grp_vec= {}\n",
    "    for year in yrlst:\n",
    "        x = vectorizer.fit_transform(grp_dct[year])\n",
    "        grp_vec[year] = x\n",
    "    return grp_vec"
   ]
  },
  {
   "cell_type": "code",
   "execution_count": 21,
   "metadata": {},
   "outputs": [
    {
     "data": {
      "text/plain": [
       "<function TextIOWrapper.close>"
      ]
     },
     "execution_count": 21,
     "metadata": {},
     "output_type": "execute_result"
    }
   ],
   "source": [
    "with open('stop_words_eng.txt', 'r') as f:\n",
    "    stop_words_eng = f.read().split()\n",
    "f.close\n"
   ]
  },
  {
   "cell_type": "code",
   "execution_count": 22,
   "metadata": {},
   "outputs": [],
   "source": [
    "abstracts = df_clean.Abstract\n",
    "\n",
    "count_vectorizer = CountVectorizer(ngram_range = (0,1), stop_words = 'english')\n",
    "\n",
    "count = count_vectorizer.fit_transform(abstracts)\n",
    "\n"
   ]
  },
  {
   "cell_type": "code",
   "execution_count": null,
   "metadata": {},
   "outputs": [],
   "source": [
    "tfidf_vectorizer = TfidfVectorizer(ngram_range = (0,1), \n",
    "                                   stop_words = 'english', \n",
    "#                                   max_df=0.98, \n",
    "#                                   min_df=1\n",
    "                                  )\n",
    "\n",
    "tfidf = tfidf_vectorizer.fit_transform(abstracts)"
   ]
  },
  {
   "cell_type": "code",
   "execution_count": 19,
   "metadata": {
    "collapsed": true
   },
   "outputs": [],
   "source": [
    "grp_tfidf = vec_abs_over_yrs(tfidf_vectorizer)\n",
    "grp_count = vec_abs_over_yrs(count_vectorizer)\n",
    "\n"
   ]
  },
  {
   "cell_type": "code",
   "execution_count": 24,
   "metadata": {
    "collapsed": true
   },
   "outputs": [],
   "source": [
    "def nmf_topic_gen(matrix, vectorizer, topic_num, papers): \n",
    "    vectorizer.fit_transform(papers)\n",
    "    nmf_model = NMF(1)\n",
    "    nmf_model.fit(matrix)\n",
    "    n_grams = vectorizer.get_feature_names()\n",
    "    for r in nmf_model.components_:\n",
    "        topic_model = sorted([(v,i) for i,v in enumerate(r)])[-topic_num:]\n",
    "        return [n_grams[i[1]] for i in topic_model]"
   ]
  },
  {
   "cell_type": "code",
   "execution_count": null,
   "metadata": {},
   "outputs": [],
   "source": []
  },
  {
   "cell_type": "code",
   "execution_count": null,
   "metadata": {},
   "outputs": [],
   "source": []
  },
  {
   "cell_type": "code",
   "execution_count": null,
   "metadata": {},
   "outputs": [],
   "source": []
  },
  {
   "cell_type": "code",
   "execution_count": null,
   "metadata": {},
   "outputs": [],
   "source": []
  },
  {
   "cell_type": "markdown",
   "metadata": {},
   "source": [
    "# Add Stop Words from Overall Abstracts"
   ]
  },
  {
   "cell_type": "code",
   "execution_count": 20,
   "metadata": {
    "collapsed": true
   },
   "outputs": [],
   "source": [
    "def additional_stop_words(vectorizer, num_words):\n",
    "    vector_matrix = vectorizer.fit_transform(abstracts)\n",
    "    nmf_model = NMF(1)\n",
    "    nmf_model.fit(vector_matrix)\n",
    "    n_grams = vectorizer.get_feature_names() \n",
    "    for r in nmf_model.components_:\n",
    "        top_matches = sorted([(v,i) for i,v in enumerate(r)])[-num_words:]\n",
    "        return [n_grams[i[1]] for i in top_matches]"
   ]
  },
  {
   "cell_type": "code",
   "execution_count": 21,
   "metadata": {
    "collapsed": true
   },
   "outputs": [],
   "source": [
    "ct_sw = additional_stop_words(count_vectorizer, 150) \n",
    "tf_sw = additional_stop_words(tfidf_vectorizer, 150)\n",
    "\n",
    "count_stopwords = stop_words_eng + ct_sw\n",
    "tfidf_stopwords = stop_words_eng + tf_sw\n",
    "\n",
    "stopwords = stop_words_eng + ct_sw + tf_sw"
   ]
  },
  {
   "cell_type": "markdown",
   "metadata": {
    "collapsed": true
   },
   "source": [
    "# Revectorize and Run"
   ]
  },
  {
   "cell_type": "code",
   "execution_count": 22,
   "metadata": {
    "collapsed": true
   },
   "outputs": [],
   "source": [
    "count_vectorizer_ct = CountVectorizer(ngram_range = (0,1), \n",
    "                                      stop_words = count_stopwords\n",
    "                                     )\n",
    "count_vectorizer_tf = CountVectorizer(ngram_range = (0,1), \n",
    "                                      stop_words = tfidf_stopwords\n",
    "                                     )\n",
    "tfidf_vectorizer_ct = TfidfVectorizer(ngram_range = (0,1), \n",
    "                                   stop_words = count_stopwords\n",
    "                                     )\n",
    "tfidf_vectorizer_tf = TfidfVectorizer(ngram_range = (0,1), \n",
    "                                   stop_words = tfidf_stopwords\n",
    "                                     ) \n",
    "\n",
    "count_vectorizer_sw = CountVectorizer(ngram_range = (0,1), \n",
    "                                      stop_words = stopwords\n",
    "                                     )\n",
    "tfidf_vectorizer_sw = TfidfVectorizer(ngram_range = (0,1), \n",
    "                                   stop_words = stopwords\n",
    "                                     ) "
   ]
  },
  {
   "cell_type": "code",
   "execution_count": 23,
   "metadata": {
    "collapsed": true
   },
   "outputs": [],
   "source": [
    "grp_count_ct = vec_abs_over_yrs(count_vectorizer_ct)\n",
    "grp_count_tf = vec_abs_over_yrs(count_vectorizer_tf)\n",
    "grp_tfidf_ct = vec_abs_over_yrs(tfidf_vectorizer_ct)\n",
    "grp_tfidf_tf = vec_abs_over_yrs(tfidf_vectorizer_tf)"
   ]
  },
  {
   "cell_type": "code",
   "execution_count": 25,
   "metadata": {
    "collapsed": true
   },
   "outputs": [],
   "source": [
    "def nmf_topic_words(group_vec, vectorizer, topic_num):\n",
    "    for key in group_vec.keys():\n",
    "        return(nmf_topic_gen(group_vec[key], vectorizer, topic_num, grp_dct[key]))\n"
   ]
  },
  {
   "cell_type": "code",
   "execution_count": 26,
   "metadata": {
    "collapsed": true
   },
   "outputs": [],
   "source": [
    "grps = [grp_count_ct, \n",
    "        grp_count_tf, \n",
    "        grp_tfidf_ct, \n",
    "        grp_tfidf_tf]\n",
    "vecs = [count_vectorizer_ct, count_vectorizer_tf, tfidf_vectorizer_ct, tfidf_vectorizer_tf, count_vectorizer_sw, tfidf_vectorizer_sw]"
   ]
  },
  {
   "cell_type": "code",
   "execution_count": null,
   "metadata": {
    "collapsed": true
   },
   "outputs": [],
   "source": []
  },
  {
   "cell_type": "code",
   "execution_count": 27,
   "metadata": {
    "scrolled": false
   },
   "outputs": [
    {
     "name": "stdout",
     "output_type": "stream",
     "text": [
      "1980\n",
      "['combining', 'combination', 'cfuc']\n",
      "1981\n",
      "['cfue', 'colorectal', 'cfuc']\n",
      "1982\n",
      "['colonisation', 'cfuc', 'combination']\n",
      "1983\n",
      "['colonisation', 'assayed', 'colposcopic']\n",
      "1984\n",
      "['series', 'colorectal', 'assayed']\n",
      "1985\n",
      "['duct', 'assayable', 'column']\n",
      "1986\n",
      "['assayed', 'serve', 'du145']\n",
      "1987\n",
      "['cfus', 'toxin', 'column']\n",
      "1988\n",
      "['colorectal', 'cfuc', 'good']\n",
      "1989\n",
      "['colorectal', 'cfuc', 'golden']\n",
      "1990\n",
      "['cfuc', 'colorimetric', 'goblet']\n",
      "1991\n",
      "['colorectal', 'cfus', 'goiter']\n",
      "1992\n",
      "['colorectal', 'cfus', 'goitrogenesis']\n",
      "1993\n",
      "['cmml', 'colorectal', 'good']\n",
      "1994\n",
      "['cg', 'colour', 'goal']\n",
      "1995\n",
      "['alter', 'ddi', 'permits']\n",
      "1996\n",
      "['bm5', 'dcc', 'pcna']\n",
      "1997\n",
      "['m7', 'permeable', 'ddelta2']\n",
      "1998\n",
      "['dbeta2', 'perlecan', 'machinery']\n",
      "1999\n",
      "['medium', 'permit', 'dc']\n",
      "2000\n",
      "['dbds', 'dbd', 'medically']\n",
      "2001\n",
      "['gy', 'medications', 'granule']\n",
      "2002\n",
      "['granular', 'doses', 'gynecological']\n",
      "2003\n",
      "['dormant', 'granular', 'h1299']\n",
      "2004\n",
      "['dorsal', 'granule', 'gynecologic']\n",
      "2005\n",
      "['granular', 'trapping', 'gyri']\n",
      "2006\n",
      "['granular', 'doppler', 'gynecological']\n",
      "2007\n",
      "['immoral', 'gyrus', 'cmls']\n",
      "2008\n",
      "['beta1', 'brains', 'gynecological']\n",
      "2009\n",
      "['withstand', 'will', 'brains']\n",
      "2010\n",
      "['withheld', 'brains', 'wide']\n",
      "2011\n",
      "['notion', 'withdrawal', 'wild']\n",
      "2012\n",
      "['wistar', 'widespread', 'mis']\n",
      "2013\n",
      "['overactivity', 'misexpression', 'wider']\n",
      "2014\n",
      "['women', 'gcaga', 'wide']\n",
      "2015\n",
      "['whales', 'hsnf5', 'gcamp6']\n",
      "2016\n",
      "['hsfcs', 'white', 'wo2014066122']\n",
      "2017\n",
      "['gcc', 'hsp60', 'wong']\n"
     ]
    }
   ],
   "source": [
    "years = yrlst\n",
    "\n",
    "for yr in years:\n",
    "    print(str(yr))\n",
    "    print(nmf_topic_gen(grp_tfidf_tf[yr], tfidf_vectorizer_sw, 3, grp_dct[yr]))\n",
    "    \n",
    "\n",
    "    \n",
    "\n"
   ]
  },
  {
   "cell_type": "code",
   "execution_count": 28,
   "metadata": {
    "collapsed": true
   },
   "outputs": [],
   "source": [
    "\n",
    "dct_yr_all = []\n",
    "\n",
    "for yr in yrlst:\n",
    "    dct_yr = {}\n",
    "    dct_yr[\"name\"] = str(yr)\n",
    "    dct_yr_child =[]\n",
    "    \n",
    "    \n",
    "    dct_topic_child = []\n",
    "    for topic in nmf_topic_gen(grp_tfidf_tf[yr], tfidf_vectorizer_sw, 3, grp_dct[yr]):\n",
    "        dct_topic = {}\n",
    "        dct_topic[\"name\"] = topic\n",
    "        dct_topic[\"size\"] = 800\n",
    "        dct_topic_child.append(dct_topic)\n",
    "#    dct_topic_child.append({\"name\" : yr, \"size\" : 800})\n",
    "    dct_yr[\"children\"] = dct_topic_child\n",
    "    \n",
    "    dct_yr_all.append(dct_yr)\n",
    "    \n",
    "jsondct = {\"name\" : \"Cancer Stem Cell\",\n",
    "           \"children\" : dct_yr_all}\n"
   ]
  },
  {
   "cell_type": "code",
   "execution_count": null,
   "metadata": {
    "collapsed": true
   },
   "outputs": [],
   "source": []
  },
  {
   "cell_type": "code",
   "execution_count": 29,
   "metadata": {
    "scrolled": false
   },
   "outputs": [
    {
     "name": "stdout",
     "output_type": "stream",
     "text": [
      "('{\"name\":\"Cancer Stem '\n",
      " 'Cell\",\"children\":[{\"name\":\"1980\",\"children\":[{\"name\":\"combining\",\"size\":800},{\"name\":\"combination\",\"size\":800},{\"name\":\"cfuc\",\"size\":800}]},{\"name\":\"1981\",\"children\":[{\"name\":\"cfue\",\"size\":800},{\"name\":\"colorectal\",\"size\":800},{\"name\":\"cfuc\",\"size\":800}]},{\"name\":\"1982\",\"children\":[{\"name\":\"colonisation\",\"size\":800},{\"name\":\"cfuc\",\"size\":800},{\"name\":\"combination\",\"size\":800}]},{\"name\":\"1983\",\"children\":[{\"name\":\"colonisation\",\"size\":800},{\"name\":\"assayed\",\"size\":800},{\"name\":\"colposcopic\",\"size\":800}]},{\"name\":\"1984\",\"children\":[{\"name\":\"series\",\"size\":800},{\"name\":\"colorectal\",\"size\":800},{\"name\":\"assayed\",\"size\":800}]},{\"name\":\"1985\",\"children\":[{\"name\":\"duct\",\"size\":800},{\"name\":\"assayable\",\"size\":800},{\"name\":\"column\",\"size\":800}]},{\"name\":\"1986\",\"children\":[{\"name\":\"assayed\",\"size\":800},{\"name\":\"serve\",\"size\":800},{\"name\":\"du145\",\"size\":800}]},{\"name\":\"1987\",\"children\":[{\"name\":\"cfus\",\"size\":800},{\"name\":\"toxin\",\"size\":800},{\"name\":\"column\",\"size\":800}]},{\"name\":\"1988\",\"children\":[{\"name\":\"colorectal\",\"size\":800},{\"name\":\"cfuc\",\"size\":800},{\"name\":\"good\",\"size\":800}]},{\"name\":\"1989\",\"children\":[{\"name\":\"colorectal\",\"size\":800},{\"name\":\"cfuc\",\"size\":800},{\"name\":\"golden\",\"size\":800}]},{\"name\":\"1990\",\"children\":[{\"name\":\"cfuc\",\"size\":800},{\"name\":\"colorimetric\",\"size\":800},{\"name\":\"goblet\",\"size\":800}]},{\"name\":\"1991\",\"children\":[{\"name\":\"colorectal\",\"size\":800},{\"name\":\"cfus\",\"size\":800},{\"name\":\"goiter\",\"size\":800}]},{\"name\":\"1992\",\"children\":[{\"name\":\"colorectal\",\"size\":800},{\"name\":\"cfus\",\"size\":800},{\"name\":\"goitrogenesis\",\"size\":800}]},{\"name\":\"1993\",\"children\":[{\"name\":\"cmml\",\"size\":800},{\"name\":\"colorectal\",\"size\":800},{\"name\":\"good\",\"size\":800}]},{\"name\":\"1994\",\"children\":[{\"name\":\"cg\",\"size\":800},{\"name\":\"colour\",\"size\":800},{\"name\":\"goal\",\"size\":800}]},{\"name\":\"1995\",\"children\":[{\"name\":\"alter\",\"size\":800},{\"name\":\"ddi\",\"size\":800},{\"name\":\"permits\",\"size\":800}]},{\"name\":\"1996\",\"children\":[{\"name\":\"bm5\",\"size\":800},{\"name\":\"dcc\",\"size\":800},{\"name\":\"pcna\",\"size\":800}]},{\"name\":\"1997\",\"children\":[{\"name\":\"m7\",\"size\":800},{\"name\":\"permeable\",\"size\":800},{\"name\":\"ddelta2\",\"size\":800}]},{\"name\":\"1998\",\"children\":[{\"name\":\"dbeta2\",\"size\":800},{\"name\":\"perlecan\",\"size\":800},{\"name\":\"machinery\",\"size\":800}]},{\"name\":\"1999\",\"children\":[{\"name\":\"medium\",\"size\":800},{\"name\":\"permit\",\"size\":800},{\"name\":\"dc\",\"size\":800}]},{\"name\":\"2000\",\"children\":[{\"name\":\"dbds\",\"size\":800},{\"name\":\"dbd\",\"size\":800},{\"name\":\"medically\",\"size\":800}]},{\"name\":\"2001\",\"children\":[{\"name\":\"gy\",\"size\":800},{\"name\":\"medications\",\"size\":800},{\"name\":\"granule\",\"size\":800}]},{\"name\":\"2002\",\"children\":[{\"name\":\"granular\",\"size\":800},{\"name\":\"doses\",\"size\":800},{\"name\":\"gynecological\",\"size\":800}]},{\"name\":\"2003\",\"children\":[{\"name\":\"dormant\",\"size\":800},{\"name\":\"granular\",\"size\":800},{\"name\":\"h1299\",\"size\":800}]},{\"name\":\"2004\",\"children\":[{\"name\":\"dorsal\",\"size\":800},{\"name\":\"granule\",\"size\":800},{\"name\":\"gynecologic\",\"size\":800}]},{\"name\":\"2005\",\"children\":[{\"name\":\"granular\",\"size\":800},{\"name\":\"trapping\",\"size\":800},{\"name\":\"gyri\",\"size\":800}]},{\"name\":\"2006\",\"children\":[{\"name\":\"granular\",\"size\":800},{\"name\":\"doppler\",\"size\":800},{\"name\":\"gynecological\",\"size\":800}]},{\"name\":\"2007\",\"children\":[{\"name\":\"immoral\",\"size\":800},{\"name\":\"gyrus\",\"size\":800},{\"name\":\"cmls\",\"size\":800}]},{\"name\":\"2008\",\"children\":[{\"name\":\"beta1\",\"size\":800},{\"name\":\"brains\",\"size\":800},{\"name\":\"gynecological\",\"size\":800}]},{\"name\":\"2009\",\"children\":[{\"name\":\"withstand\",\"size\":800},{\"name\":\"will\",\"size\":800},{\"name\":\"brains\",\"size\":800}]},{\"name\":\"2010\",\"children\":[{\"name\":\"withheld\",\"size\":800},{\"name\":\"brains\",\"size\":800},{\"name\":\"wide\",\"size\":800}]},{\"name\":\"2011\",\"children\":[{\"name\":\"notion\",\"size\":800},{\"name\":\"withdrawal\",\"size\":800},{\"name\":\"wild\",\"size\":800}]},{\"name\":\"2012\",\"children\":[{\"name\":\"wistar\",\"size\":800},{\"name\":\"widespread\",\"size\":800},{\"name\":\"mis\",\"size\":800}]},{\"name\":\"2013\",\"children\":[{\"name\":\"overactivity\",\"size\":800},{\"name\":\"misexpression\",\"size\":800},{\"name\":\"wider\",\"size\":800}]},{\"name\":\"2014\",\"children\":[{\"name\":\"women\",\"size\":800},{\"name\":\"gcaga\",\"size\":800},{\"name\":\"wide\",\"size\":800}]},{\"name\":\"2015\",\"children\":[{\"name\":\"whales\",\"size\":800},{\"name\":\"hsnf5\",\"size\":800},{\"name\":\"gcamp6\",\"size\":800}]},{\"name\":\"2016\",\"children\":[{\"name\":\"hsfcs\",\"size\":800},{\"name\":\"white\",\"size\":800},{\"name\":\"wo2014066122\",\"size\":800}]},{\"name\":\"2017\",\"children\":[{\"name\":\"gcc\",\"size\":800},{\"name\":\"hsp60\",\"size\":800},{\"name\":\"wong\",\"size\":800}]}]}')\n"
     ]
    }
   ],
   "source": [
    "import json\n",
    "import pprint\n",
    "#with open('jsondct.json', 'wb') as f:\n",
    "\n",
    "pprint.pprint(json.dumps(jsondct, separators = (',', ':')))\n",
    "\n"
   ]
  }
 ],
 "metadata": {
  "kernelspec": {
   "display_name": "Python 3",
   "language": "python",
   "name": "python3"
  },
  "language_info": {
   "codemirror_mode": {
    "name": "ipython",
    "version": 3
   },
   "file_extension": ".py",
   "mimetype": "text/x-python",
   "name": "python",
   "nbconvert_exporter": "python",
   "pygments_lexer": "ipython3",
   "version": "3.6.4"
  }
 },
 "nbformat": 4,
 "nbformat_minor": 2
}
